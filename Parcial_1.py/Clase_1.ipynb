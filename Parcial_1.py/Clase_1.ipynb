{
 "cells": [
  {
   "cell_type": "code",
   "execution_count": 1,
   "metadata": {},
   "outputs": [],
   "source": [
    "import pandas as pd\n",
    "import matplotlib.pyplot as plt\n",
    "import numpy as np\n",
    "import statsmodels.api as sm\n",
    "from sklearn.metrics import mean_squared_error, mean_absolute_error, mean_poisson_deviance, max_error\n",
    "from statsmodels.tsa.arima.model import ARIMA"
   ]
  },
  {
   "cell_type": "code",
   "execution_count": 28,
   "metadata": {},
   "outputs": [],
   "source": [
    "Datos = pd.read_excel('..\\Datos\\Alemania.xls', sheet_name= 'Data')\n",
    "Datos.columns = Datos.iloc[2]\n",
    "Datos = Datos[3:]\n",
    "Datos.drop(['Country Name', 'Country Code', 'Indicator Code'], axis = 1 ,inplace= True)\n",
    "Datos = Datos.T\n",
    "Datos.columns = Datos.iloc[0]\n",
    "Datos.dropna(axis = 1, inplace= True)\n",
    "Datos = Datos.reset_index()\n",
    "Datos[2][1:] = Datos[2][1:].astype(int)\n",
    "Datos.set_index(2, inplace=True)\n",
    "Datos = Datos[1:]"
   ]
  },
  {
   "cell_type": "markdown",
   "metadata": {},
   "source": [
    "## Usaremos Este Dato Como Ejemplo"
   ]
  },
  {
   "cell_type": "code",
   "execution_count": 43,
   "metadata": {},
   "outputs": [],
   "source": [
    "TIE = Datos['Tasa de inactividad por edades (% de la población en edad de trabajar)']"
   ]
  },
  {
   "cell_type": "markdown",
   "metadata": {},
   "source": [
    "### Teoria\n",
    "$$\n",
    "E(TIE_t) = \\bar{TIE}\n",
    "$$\n",
    "La Esperanza de la TASA DE INACTIVIDAD POR EDADES a la cual llamaremos TIE por sus siglas en español es en si la media de la Variable la cual es un numero fijo.\n",
    "$$\n",
    "V(TIE) = \\sum_{t=1}^{k} {(TIE_t - E(TIE_{t}))^2} f(TIR)\n",
    "$$\n",
    "La Varianza es la en sumatoria de las variables en el tiempo restadas con la Esperanza vista anteriormente.\n",
    "$$\n",
    "Cov(TIE_t, TIE_{t-1}) = E(TIE_t - E(TIE_t))(TIE_{t-1} - E(TIE_{t-1})) = \\gamma_1\n",
    "$$\n",
    "La Convarianza es por lo tanto la formula que tenemos al frente tomamos en cuenta que tanto $E(TIE_t)$ como $E(TIE_{t-1})$ son el mismo valor en realidad, Tambien llamaremos a partir de ahora a la covarianza como $\\gamma_n$ el cual dependera de la covarianza que buscamos en relacion a la primera."
   ]
  },
  {
   "cell_type": "code",
   "execution_count": 44,
   "metadata": {},
   "outputs": [],
   "source": [
    "Media = TIE.mean()\n",
    "Desv = (((TIE - Media)**2).sum())/len(TIE)\n",
    "std = Desv**(1/2) "
   ]
  },
  {
   "cell_type": "code",
   "execution_count": 52,
   "metadata": {},
   "outputs": [],
   "source": [
    "def Covarianza(Datos):\n",
    "    Media = TIE.mean()\n",
    "    Indice = []\n",
    "    Covarianzas = []\n",
    "    for i in range(1,len(Datos)):\n",
    "        Indice.append(f't-{i}')\n",
    "        Covarianzas.append(((Datos.iloc[-1] - Media)*(Datos.iloc[len(Datos)-i] - Media)).sum()/len(Datos))\n",
    "    \n",
    "    return pd.DataFrame({\n",
    "        'Indices': Indice,\n",
    "        'Covarianzas': Covarianzas\n",
    "    })"
   ]
  },
  {
   "cell_type": "code",
   "execution_count": 59,
   "metadata": {},
   "outputs": [
    {
     "data": {
      "text/html": [
       "<div>\n",
       "<style scoped>\n",
       "    .dataframe tbody tr th:only-of-type {\n",
       "        vertical-align: middle;\n",
       "    }\n",
       "\n",
       "    .dataframe tbody tr th {\n",
       "        vertical-align: top;\n",
       "    }\n",
       "\n",
       "    .dataframe thead th {\n",
       "        text-align: right;\n",
       "    }\n",
       "</style>\n",
       "<table border=\"1\" class=\"dataframe\">\n",
       "  <thead>\n",
       "    <tr style=\"text-align: right;\">\n",
       "      <th></th>\n",
       "      <th>Indices</th>\n",
       "      <th>Covarianzas</th>\n",
       "    </tr>\n",
       "  </thead>\n",
       "  <tbody>\n",
       "    <tr>\n",
       "      <th>0</th>\n",
       "      <td>t-1</td>\n",
       "      <td>0.588965</td>\n",
       "    </tr>\n",
       "    <tr>\n",
       "      <th>1</th>\n",
       "      <td>t-2</td>\n",
       "      <td>0.511069</td>\n",
       "    </tr>\n",
       "    <tr>\n",
       "      <th>2</th>\n",
       "      <td>t-3</td>\n",
       "      <td>0.433870</td>\n",
       "    </tr>\n",
       "    <tr>\n",
       "      <th>3</th>\n",
       "      <td>t-4</td>\n",
       "      <td>0.353349</td>\n",
       "    </tr>\n",
       "    <tr>\n",
       "      <th>4</th>\n",
       "      <td>t-5</td>\n",
       "      <td>0.273112</td>\n",
       "    </tr>\n",
       "  </tbody>\n",
       "</table>\n",
       "</div>"
      ],
      "text/plain": [
       "  Indices  Covarianzas\n",
       "0     t-1     0.588965\n",
       "1     t-2     0.511069\n",
       "2     t-3     0.433870\n",
       "3     t-4     0.353349\n",
       "4     t-5     0.273112"
      ]
     },
     "execution_count": 59,
     "metadata": {},
     "output_type": "execute_result"
    }
   ],
   "source": [
    "Reslt = Covarianza(TIE)\n",
    "Reslt.head(5)"
   ]
  },
  {
   "cell_type": "markdown",
   "metadata": {},
   "source": [
    "$$\n",
    "Corr(TIE_t, TIE_{t-1}) = \\frac{Cov(TIE_t, TIE_{t-1})}{\\sqrt{V(TIE) * V(TIE)}} = \\rho_1\n",
    "$$\n",
    "O simplificado dado que la Varianza tambien es un Numero.\n",
    "$$\n",
    "Corr(TIE_t, TIE_{t-1}) = \\frac{Cov(TIE_t, TIE_{t-1})}{V(TIE)} = \\rho_1\n",
    "$$"
   ]
  },
  {
   "cell_type": "code",
   "execution_count": 61,
   "metadata": {},
   "outputs": [
    {
     "data": {
      "text/html": [
       "<div>\n",
       "<style scoped>\n",
       "    .dataframe tbody tr th:only-of-type {\n",
       "        vertical-align: middle;\n",
       "    }\n",
       "\n",
       "    .dataframe tbody tr th {\n",
       "        vertical-align: top;\n",
       "    }\n",
       "\n",
       "    .dataframe thead th {\n",
       "        text-align: right;\n",
       "    }\n",
       "</style>\n",
       "<table border=\"1\" class=\"dataframe\">\n",
       "  <thead>\n",
       "    <tr style=\"text-align: right;\">\n",
       "      <th></th>\n",
       "      <th>Indices</th>\n",
       "      <th>Covarianzas</th>\n",
       "      <th>Correlaciones</th>\n",
       "    </tr>\n",
       "  </thead>\n",
       "  <tbody>\n",
       "    <tr>\n",
       "      <th>0</th>\n",
       "      <td>t-1</td>\n",
       "      <td>0.588965</td>\n",
       "      <td>0.028850</td>\n",
       "    </tr>\n",
       "    <tr>\n",
       "      <th>1</th>\n",
       "      <td>t-2</td>\n",
       "      <td>0.511069</td>\n",
       "      <td>0.025035</td>\n",
       "    </tr>\n",
       "    <tr>\n",
       "      <th>2</th>\n",
       "      <td>t-3</td>\n",
       "      <td>0.433870</td>\n",
       "      <td>0.021253</td>\n",
       "    </tr>\n",
       "    <tr>\n",
       "      <th>3</th>\n",
       "      <td>t-4</td>\n",
       "      <td>0.353349</td>\n",
       "      <td>0.017309</td>\n",
       "    </tr>\n",
       "    <tr>\n",
       "      <th>4</th>\n",
       "      <td>t-5</td>\n",
       "      <td>0.273112</td>\n",
       "      <td>0.013378</td>\n",
       "    </tr>\n",
       "  </tbody>\n",
       "</table>\n",
       "</div>"
      ],
      "text/plain": [
       "  Indices  Covarianzas  Correlaciones\n",
       "0     t-1     0.588965       0.028850\n",
       "1     t-2     0.511069       0.025035\n",
       "2     t-3     0.433870       0.021253\n",
       "3     t-4     0.353349       0.017309\n",
       "4     t-5     0.273112       0.013378"
      ]
     },
     "execution_count": 61,
     "metadata": {},
     "output_type": "execute_result"
    }
   ],
   "source": [
    "Reslt['Correlaciones']= Reslt['Covarianzas']/Desv\n",
    "Reslt.head(5)"
   ]
  },
  {
   "cell_type": "code",
   "execution_count": 68,
   "metadata": {},
   "outputs": [
    {
     "data": {
      "image/png": "[encoded data removed]",
      "text/plain": [
       "<Figure size 640x480 with 1 Axes>"
      ]
     },
     "metadata": {},
     "output_type": "display_data"
    }
   ],
   "source": [
    "autocorr  = TIE.autocorr()\n",
    "pd.plotting.autocorrelation_plot(TIE)\n",
    "plt.title('Autocorrelación')\n",
    "plt.show()"
   ]
  }
 ],
 "metadata": {
  "kernelspec": {
   "display_name": "env",
   "language": "python",
   "name": "python3"
  },
  "language_info": {
   "codemirror_mode": {
    "name": "ipython",
    "version": 3
   },
   "file_extension": ".py",
   "mimetype": "text/x-python",
   "name": "python",
   "nbconvert_exporter": "python",
   "pygments_lexer": "ipython3",
   "version": "3.11.0"
  }
 },
 "nbformat": 4,
 "nbformat_minor": 2
}
